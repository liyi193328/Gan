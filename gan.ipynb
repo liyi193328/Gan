{
 "cells": [
  {
   "cell_type": "code",
   "execution_count": 1,
   "metadata": {
    "collapsed": true,
    "deletable": true,
    "editable": true
   },
   "outputs": [],
   "source": [
    "#encoding=utf-8\n",
    "import sys\n",
    "import pandas as pd\n",
    "import numpy as np\n",
    "import codecs\n",
    "import tensorflow as tf\n",
    "\n",
    "import argparse\n",
    "import numpy as np\n",
    "from scipy.stats import norm\n",
    "import tensorflow as tf\n",
    "import matplotlib.pyplot as plt\n",
    "from matplotlib import animation, rc\n",
    "import seaborn as sns\n",
    "from IPython.display import HTML"
   ]
  },
  {
   "cell_type": "code",
   "execution_count": 2,
   "metadata": {
    "collapsed": false,
    "deletable": true,
    "editable": true
   },
   "outputs": [],
   "source": [
    "data = pd.read_csv(\"./reprocess.txt\", sep=\" \",header=None)"
   ]
  },
  {
   "cell_type": "code",
   "execution_count": 5,
   "metadata": {
    "collapsed": false
   },
   "outputs": [
    {
     "data": {
      "text/plain": [
       "(5543, 10067)"
      ]
     },
     "execution_count": 5,
     "metadata": {},
     "output_type": "execute_result"
    }
   ],
   "source": []
  },
  {
   "cell_type": "code",
   "execution_count": 6,
   "metadata": {
    "collapsed": false,
    "deletable": true,
    "editable": true
   },
   "outputs": [
    {
     "data": {
      "text/plain": [
       "5543"
      ]
     },
     "execution_count": 6,
     "metadata": {},
     "output_type": "execute_result"
    }
   ],
   "source": [
    "data_t = data.transpose()\n",
    "samples, feature_nums = data_t.shape\n",
    "feature_nums"
   ]
  },
  {
   "cell_type": "code",
   "execution_count": 12,
   "metadata": {
    "collapsed": true
   },
   "outputs": [],
   "source": [
    "train_data = data_t.iloc[0:5000]\n",
    "complete_data = data_t.iloc[5000:5543,:]"
   ]
  },
  {
   "cell_type": "code",
   "execution_count": 13,
   "metadata": {
    "collapsed": false
   },
   "outputs": [
    {
     "data": {
      "text/plain": [
       "(543, 5543)"
      ]
     },
     "execution_count": 13,
     "metadata": {},
     "output_type": "execute_result"
    }
   ],
   "source": [
    "complete_data.shape"
   ]
  },
  {
   "cell_type": "code",
   "execution_count": 5,
   "metadata": {
    "collapsed": true
   },
   "outputs": [],
   "source": [
    "seed = 42\n",
    "np.random.seed(seed)\n",
    "tf.set_random_seed(seed)"
   ]
  },
  {
   "cell_type": "code",
   "execution_count": 8,
   "metadata": {
    "collapsed": true
   },
   "outputs": [],
   "source": [
    "class DataDistribution(object):\n",
    "    def __init__(self):\n",
    "        self.mu = -1\n",
    "        self.sigma = 1\n",
    "\n",
    "    def sample(self, N):\n",
    "        samples = np.random.normal(self.mu, self.sigma, N)\n",
    "        samples.sort()\n",
    "        return samples      "
   ]
  },
  {
   "cell_type": "code",
   "execution_count": 9,
   "metadata": {
    "collapsed": true
   },
   "outputs": [],
   "source": [
    "class GeneratorDistribution(object):\n",
    "    def __init__(self, range):\n",
    "        self.range = range\n",
    "\n",
    "    def sample(self, N):\n",
    "        return np.linspace(-self.range, self.range, N) + \\\n",
    "            np.random.random(N) * 0.01"
   ]
  },
  {
   "cell_type": "code",
   "execution_count": 12,
   "metadata": {
    "collapsed": true
   },
   "outputs": [],
   "source": [
    "\n",
    "def mlp(input, h_dim):\n",
    "    init_const = tf.constant_initializer(0.0)\n",
    "    init_norm = tf.random_normal_initializer()\n",
    "    w0 = tf.get_variable('w0', [input.get_shape()[1], h_dim], initializer=init_norm)\n",
    "    b0 = tf.get_variable('b0', [h_dim], initializer=init_const)\n",
    "    w1 = tf.get_variable('w1', [h_dim, h_dim], initializer=init_norm)\n",
    "    b1 = tf.get_variable('b1', [h_dim], initializer=init_const)\n",
    "    h0 = tf.tanh(tf.matmul(input, w0) + b0)\n",
    "    h1 = tf.tanh(tf.matmul(h0, w1) + b1)\n",
    "    return h1, [w0, b0, w1, b1]\n",
    "\n",
    "def generator(input, h_dim, feature_nums):\n",
    "    transform, params = mlp(input, h_dim)\n",
    "    init_const = tf.constant_initializer(0.0)\n",
    "    init_norm = tf.random_normal_initializer()\n",
    "    w = tf.get_variable('g_w', [h_dim, feature_nums], initializer=init_norm)\n",
    "    b = tf.get_variable('g_b', [feature_nums], initializer=init_const)\n",
    "    h = tf.matmul(transform, w) + b\n",
    "    return h, params + [w, b]\n",
    "\n",
    "def discriminator(input, h_dim, feature_nums):\n",
    "    transform, params = mlp(input, h_dim)\n",
    "    init_const = tf.constant_initializer(0.0)\n",
    "    init_norm = tf.random_normal_initializer()\n",
    "    w = tf.get_variable('d_w', [h_dim, feature_nums], initializer=init_norm)\n",
    "    b = tf.get_variable('d_b', [feature_nums], initializer=init_const)\n",
    "    h = tf.sigmoid(tf.matmul(transform, w) + b)\n",
    "    return h, params + [w, b]"
   ]
  },
  {
   "cell_type": "code",
   "execution_count": 16,
   "metadata": {
    "collapsed": true
   },
   "outputs": [],
   "source": [
    "def optimizer(loss, var_list, num_epochs):\n",
    "    initial_learning_rate = 0.01\n",
    "    decay = 0.95\n",
    "    num_decay_steps = num_epochs // 4\n",
    "    batch = tf.Variable(0)\n",
    "    learning_rate = tf.train.exponential_decay(\n",
    "        initial_learning_rate,\n",
    "        batch,\n",
    "        num_decay_steps,\n",
    "        decay,\n",
    "        staircase=True\n",
    "    )\n",
    "    optimizer = tf.train.GradientDescentOptimizer(learning_rate).minimize(\n",
    "        loss,\n",
    "        global_step=batch,\n",
    "        var_list=var_list\n",
    "    )\n",
    "    return optimizer"
   ]
  },
  {
   "cell_type": "code",
   "execution_count": 24,
   "metadata": {
    "collapsed": false
   },
   "outputs": [],
   "source": [
    "class DataSet:\n",
    "    \n",
    "    def __init__(self, data, batch_size, shuffle=True, random_sample_mu = 0, random_sample_sigma=1):\n",
    "        self.data = data\n",
    "        self.samples, self.feature_nums = data.shape\n",
    "        self.cnt = 0\n",
    "        self.batch_size = batch_size\n",
    "        self.shuffle = shuffle\n",
    "        self.random_sample_mu = random_sample_mu\n",
    "        self.random_sample_sigma = random_sample_sigma\n",
    "        \n",
    "    def next(self, generate_random=True):\n",
    "        feature_nums, batch_size = self.feature_nums, self.batch_size\n",
    "        if self.cnt + batch_size >= self.samples:\n",
    "            if self.shuffle:\n",
    "                np.random.shuffle(data)\n",
    "            self.cnt = 0\n",
    "        be, en = self.cnt, min(self.samples, self.cnt + batch_size)\n",
    "#         yield data[be, en]\n",
    "        batch_data = self.data[be : en]\n",
    "        random_samles = np.random.normal(self.random_sample_mu, self.random_sample_sigma, (batch_size, feature_nums))\n",
    "        self.cnt = (self.cnt + batch_size) % self.samples\n",
    "        return batch_data, random_samles\n",
    "\n",
    "dataset = DataSet(data_t, 128)"
   ]
  },
  {
   "cell_type": "code",
   "execution_count": 12,
   "metadata": {
    "collapsed": true
   },
   "outputs": [],
   "source": [
    "anim_frames = []\n",
    "\n",
    "def plot_distributions(GAN, session, loss_d, loss_g):\n",
    "    num_points = 100000\n",
    "    num_bins = 100\n",
    "    xs = np.linspace(-GAN.gen.range, GAN.gen.range, num_points)\n",
    "    bins = np.linspace(-GAN.gen.range, GAN.gen.range, num_bins)\n",
    "\n",
    "    # p(data)\n",
    "    d_sample = GAN.data.sample(num_points)\n",
    "\n",
    "    # decision boundary\n",
    "    ds = np.zeros((num_points, 1))  # decision surface\n",
    "    for i in range(num_points // GAN.batch_size):\n",
    "        ds[GAN.batch_size * i:GAN.batch_size * (i + 1)] = session.run(GAN.D1, {\n",
    "            GAN.x: np.reshape(xs[GAN.batch_size * i:GAN.batch_size * (i + 1)], (GAN.batch_size, 1))\n",
    "        })\n",
    "\n",
    "    # p(generator)\n",
    "    zs = np.linspace(-GAN.gen.range, GAN.gen.range, num_points)\n",
    "    gs = np.zeros((num_points, 1))  # generator function\n",
    "    for i in range(num_points // GAN.batch_size):\n",
    "        gs[GAN.batch_size * i:GAN.batch_size * (i + 1)] = session.run(GAN.G, {\n",
    "            GAN.z: np.reshape(\n",
    "                zs[GAN.batch_size * i:GAN.batch_size * (i + 1)],\n",
    "                (GAN.batch_size, 1)\n",
    "            )\n",
    "        })\n",
    "           \n",
    "    anim_frames.append((d_sample, ds, gs, loss_d, loss_g))"
   ]
  },
  {
   "cell_type": "code",
   "execution_count": 25,
   "metadata": {
    "collapsed": true
   },
   "outputs": [],
   "source": [
    "class GAN(object):\n",
    "    def __init__(self, dataset, steps, mlp_hidden_size=2000):\n",
    "        self.dataset = dataset\n",
    "        self.steps = steps\n",
    "        self.log_every = 10\n",
    "        self.batch_size = dataset.batch_size\n",
    "        self.mlp_hidden_size = mlp_hidden_size\n",
    "        self.feature_nums = dataset.feature_nums\n",
    "        self._create_model()\n",
    "\n",
    "    def _create_model(self):\n",
    "        \n",
    "\n",
    "        # This defines the generator network - it takes samples from a noise\n",
    "        # distribution as input, and passes them through an MLP.\n",
    "        with tf.variable_scope('G'):\n",
    "            self.z = tf.placeholder(tf.float32, shape=(self.batch_size, self.feature_nums))\n",
    "            self.G, theta_g = generator(self.z, self.mlp_hidden_size, self.feature_nums)\n",
    "\n",
    "        # The discriminator tries to tell the difference between samples from the\n",
    "        # true data distribution (self.x) and the generated samples (self.z).\n",
    "        #\n",
    "        # Here we create two copies of the discriminator network (that share parameters),\n",
    "        # as you cannot use the same network with different inputs in TensorFlow.\n",
    "        with tf.variable_scope('D') as scope:\n",
    "            self.x = tf.placeholder(tf.float32, shape=(self.batch_size, self.feature_nums))\n",
    "            self.D1, self.theta_d1 = discriminator(self.x, self.mlp_hidden_size, self.feature_nums)\n",
    "            scope.reuse_variables()\n",
    "            self.D2, self.theta_d2 = discriminator(self.G, self.mlp_hidden_size, self.feature_nums)\n",
    "\n",
    "        # Define the loss for discriminator and generator networks (see the original\n",
    "        # paper for details), and create optimizers for both\n",
    "        self.loss_d = tf.reduce_mean(-tf.log(self.D1) - tf.log(1 - self.D2))\n",
    "        self.loss_g = tf.reduce_mean(-tf.log(self.D2))\n",
    "\n",
    "        self.opt_d = optimizer(self.loss_d, self.theta_d2, self.steps)\n",
    "        self.opt_g = optimizer(self.loss_g, theta_g, self.steps)\n",
    "    \n",
    "    def train(self):\n",
    "        with tf.Session() as session:\n",
    "            tf.global_variables_initializer().run()\n",
    "            \n",
    "            for step in range(self.steps):\n",
    "                \n",
    "                batch_data, random_data = self.dataset.next()\n",
    "\n",
    "                loss_d, _ = session.run([self.loss_d, self.opt_d], {\n",
    "                    self.x: batch_data,\n",
    "                    self.z: random_data\n",
    "                })\n",
    "\n",
    "                # update generator\n",
    "                loss_g, _ = session.run([self.loss_g, self.opt_g], {\n",
    "                    self.z: random_data\n",
    "                })\n",
    "\n",
    "                if step % self.log_every == 0:\n",
    "                    print('{}: {}\\t{}'.format(step, loss_d, loss_g))"
   ]
  },
  {
   "cell_type": "code",
   "execution_count": 26,
   "metadata": {
    "collapsed": false
   },
   "outputs": [
    {
     "name": "stdout",
     "output_type": "stream",
     "text": [
      "0: inf\tnan\n",
      "10: nan\tnan\n",
      "20: nan\tnan\n"
     ]
    },
    {
     "ename": "KeyboardInterrupt",
     "evalue": "",
     "output_type": "error",
     "traceback": [
      "\u001b[0;31m---------------------------------------------------------------------------\u001b[0m",
      "\u001b[0;31mKeyboardInterrupt\u001b[0m                         Traceback (most recent call last)",
      "\u001b[0;32m<ipython-input-26-2c65f6aa5aad>\u001b[0m in \u001b[0;36m<module>\u001b[0;34m()\u001b[0m\n\u001b[1;32m      3\u001b[0m \u001b[0mtf\u001b[0m\u001b[1;33m.\u001b[0m\u001b[0mreset_default_graph\u001b[0m\u001b[1;33m(\u001b[0m\u001b[1;33m)\u001b[0m\u001b[1;33m\u001b[0m\u001b[0m\n\u001b[1;32m      4\u001b[0m \u001b[0mmodel\u001b[0m \u001b[1;33m=\u001b[0m \u001b[0mGAN\u001b[0m\u001b[1;33m(\u001b[0m\u001b[0mdataset\u001b[0m\u001b[1;33m,\u001b[0m \u001b[0msteps\u001b[0m\u001b[1;33m)\u001b[0m\u001b[1;33m\u001b[0m\u001b[0m\n\u001b[0;32m----> 5\u001b[0;31m \u001b[0mmodel\u001b[0m\u001b[1;33m.\u001b[0m\u001b[0mtrain\u001b[0m\u001b[1;33m(\u001b[0m\u001b[1;33m)\u001b[0m\u001b[1;33m\u001b[0m\u001b[0m\n\u001b[0m",
      "\u001b[0;32m<ipython-input-25-1d72549bddc2>\u001b[0m in \u001b[0;36mtrain\u001b[0;34m(self)\u001b[0m\n\u001b[1;32m     47\u001b[0m                 loss_d, _ = session.run([self.loss_d, self.opt_d], {\n\u001b[1;32m     48\u001b[0m                     \u001b[0mself\u001b[0m\u001b[1;33m.\u001b[0m\u001b[0mx\u001b[0m\u001b[1;33m:\u001b[0m \u001b[0mbatch_data\u001b[0m\u001b[1;33m,\u001b[0m\u001b[1;33m\u001b[0m\u001b[0m\n\u001b[0;32m---> 49\u001b[0;31m                     \u001b[0mself\u001b[0m\u001b[1;33m.\u001b[0m\u001b[0mz\u001b[0m\u001b[1;33m:\u001b[0m \u001b[0mrandom_data\u001b[0m\u001b[1;33m\u001b[0m\u001b[0m\n\u001b[0m\u001b[1;32m     50\u001b[0m                 })\n\u001b[1;32m     51\u001b[0m \u001b[1;33m\u001b[0m\u001b[0m\n",
      "\u001b[0;32mD:\\Anaconda3\\lib\\site-packages\\tensorflow\\python\\client\\session.py\u001b[0m in \u001b[0;36mrun\u001b[0;34m(self, fetches, feed_dict, options, run_metadata)\u001b[0m\n\u001b[1;32m    893\u001b[0m     \u001b[1;32mtry\u001b[0m\u001b[1;33m:\u001b[0m\u001b[1;33m\u001b[0m\u001b[0m\n\u001b[1;32m    894\u001b[0m       result = self._run(None, fetches, feed_dict, options_ptr,\n\u001b[0;32m--> 895\u001b[0;31m                          run_metadata_ptr)\n\u001b[0m\u001b[1;32m    896\u001b[0m       \u001b[1;32mif\u001b[0m \u001b[0mrun_metadata\u001b[0m\u001b[1;33m:\u001b[0m\u001b[1;33m\u001b[0m\u001b[0m\n\u001b[1;32m    897\u001b[0m         \u001b[0mproto_data\u001b[0m \u001b[1;33m=\u001b[0m \u001b[0mtf_session\u001b[0m\u001b[1;33m.\u001b[0m\u001b[0mTF_GetBuffer\u001b[0m\u001b[1;33m(\u001b[0m\u001b[0mrun_metadata_ptr\u001b[0m\u001b[1;33m)\u001b[0m\u001b[1;33m\u001b[0m\u001b[0m\n",
      "\u001b[0;32mD:\\Anaconda3\\lib\\site-packages\\tensorflow\\python\\client\\session.py\u001b[0m in \u001b[0;36m_run\u001b[0;34m(self, handle, fetches, feed_dict, options, run_metadata)\u001b[0m\n\u001b[1;32m   1122\u001b[0m     \u001b[1;32mif\u001b[0m \u001b[0mfinal_fetches\u001b[0m \u001b[1;32mor\u001b[0m \u001b[0mfinal_targets\u001b[0m \u001b[1;32mor\u001b[0m \u001b[1;33m(\u001b[0m\u001b[0mhandle\u001b[0m \u001b[1;32mand\u001b[0m \u001b[0mfeed_dict_tensor\u001b[0m\u001b[1;33m)\u001b[0m\u001b[1;33m:\u001b[0m\u001b[1;33m\u001b[0m\u001b[0m\n\u001b[1;32m   1123\u001b[0m       results = self._do_run(handle, final_targets, final_fetches,\n\u001b[0;32m-> 1124\u001b[0;31m                              feed_dict_tensor, options, run_metadata)\n\u001b[0m\u001b[1;32m   1125\u001b[0m     \u001b[1;32melse\u001b[0m\u001b[1;33m:\u001b[0m\u001b[1;33m\u001b[0m\u001b[0m\n\u001b[1;32m   1126\u001b[0m       \u001b[0mresults\u001b[0m \u001b[1;33m=\u001b[0m \u001b[1;33m[\u001b[0m\u001b[1;33m]\u001b[0m\u001b[1;33m\u001b[0m\u001b[0m\n",
      "\u001b[0;32mD:\\Anaconda3\\lib\\site-packages\\tensorflow\\python\\client\\session.py\u001b[0m in \u001b[0;36m_do_run\u001b[0;34m(self, handle, target_list, fetch_list, feed_dict, options, run_metadata)\u001b[0m\n\u001b[1;32m   1319\u001b[0m     \u001b[1;32mif\u001b[0m \u001b[0mhandle\u001b[0m \u001b[1;32mis\u001b[0m \u001b[1;32mNone\u001b[0m\u001b[1;33m:\u001b[0m\u001b[1;33m\u001b[0m\u001b[0m\n\u001b[1;32m   1320\u001b[0m       return self._do_call(_run_fn, self._session, feeds, fetches, targets,\n\u001b[0;32m-> 1321\u001b[0;31m                            options, run_metadata)\n\u001b[0m\u001b[1;32m   1322\u001b[0m     \u001b[1;32melse\u001b[0m\u001b[1;33m:\u001b[0m\u001b[1;33m\u001b[0m\u001b[0m\n\u001b[1;32m   1323\u001b[0m       \u001b[1;32mreturn\u001b[0m \u001b[0mself\u001b[0m\u001b[1;33m.\u001b[0m\u001b[0m_do_call\u001b[0m\u001b[1;33m(\u001b[0m\u001b[0m_prun_fn\u001b[0m\u001b[1;33m,\u001b[0m \u001b[0mself\u001b[0m\u001b[1;33m.\u001b[0m\u001b[0m_session\u001b[0m\u001b[1;33m,\u001b[0m \u001b[0mhandle\u001b[0m\u001b[1;33m,\u001b[0m \u001b[0mfeeds\u001b[0m\u001b[1;33m,\u001b[0m \u001b[0mfetches\u001b[0m\u001b[1;33m)\u001b[0m\u001b[1;33m\u001b[0m\u001b[0m\n",
      "\u001b[0;32mD:\\Anaconda3\\lib\\site-packages\\tensorflow\\python\\client\\session.py\u001b[0m in \u001b[0;36m_do_call\u001b[0;34m(self, fn, *args)\u001b[0m\n\u001b[1;32m   1325\u001b[0m   \u001b[1;32mdef\u001b[0m \u001b[0m_do_call\u001b[0m\u001b[1;33m(\u001b[0m\u001b[0mself\u001b[0m\u001b[1;33m,\u001b[0m \u001b[0mfn\u001b[0m\u001b[1;33m,\u001b[0m \u001b[1;33m*\u001b[0m\u001b[0margs\u001b[0m\u001b[1;33m)\u001b[0m\u001b[1;33m:\u001b[0m\u001b[1;33m\u001b[0m\u001b[0m\n\u001b[1;32m   1326\u001b[0m     \u001b[1;32mtry\u001b[0m\u001b[1;33m:\u001b[0m\u001b[1;33m\u001b[0m\u001b[0m\n\u001b[0;32m-> 1327\u001b[0;31m       \u001b[1;32mreturn\u001b[0m \u001b[0mfn\u001b[0m\u001b[1;33m(\u001b[0m\u001b[1;33m*\u001b[0m\u001b[0margs\u001b[0m\u001b[1;33m)\u001b[0m\u001b[1;33m\u001b[0m\u001b[0m\n\u001b[0m\u001b[1;32m   1328\u001b[0m     \u001b[1;32mexcept\u001b[0m \u001b[0merrors\u001b[0m\u001b[1;33m.\u001b[0m\u001b[0mOpError\u001b[0m \u001b[1;32mas\u001b[0m \u001b[0me\u001b[0m\u001b[1;33m:\u001b[0m\u001b[1;33m\u001b[0m\u001b[0m\n\u001b[1;32m   1329\u001b[0m       \u001b[0mmessage\u001b[0m \u001b[1;33m=\u001b[0m \u001b[0mcompat\u001b[0m\u001b[1;33m.\u001b[0m\u001b[0mas_text\u001b[0m\u001b[1;33m(\u001b[0m\u001b[0me\u001b[0m\u001b[1;33m.\u001b[0m\u001b[0mmessage\u001b[0m\u001b[1;33m)\u001b[0m\u001b[1;33m\u001b[0m\u001b[0m\n",
      "\u001b[0;32mD:\\Anaconda3\\lib\\site-packages\\tensorflow\\python\\client\\session.py\u001b[0m in \u001b[0;36m_run_fn\u001b[0;34m(session, feed_dict, fetch_list, target_list, options, run_metadata)\u001b[0m\n\u001b[1;32m   1304\u001b[0m           return tf_session.TF_Run(session, options,\n\u001b[1;32m   1305\u001b[0m                                    \u001b[0mfeed_dict\u001b[0m\u001b[1;33m,\u001b[0m \u001b[0mfetch_list\u001b[0m\u001b[1;33m,\u001b[0m \u001b[0mtarget_list\u001b[0m\u001b[1;33m,\u001b[0m\u001b[1;33m\u001b[0m\u001b[0m\n\u001b[0;32m-> 1306\u001b[0;31m                                    status, run_metadata)\n\u001b[0m\u001b[1;32m   1307\u001b[0m \u001b[1;33m\u001b[0m\u001b[0m\n\u001b[1;32m   1308\u001b[0m     \u001b[1;32mdef\u001b[0m \u001b[0m_prun_fn\u001b[0m\u001b[1;33m(\u001b[0m\u001b[0msession\u001b[0m\u001b[1;33m,\u001b[0m \u001b[0mhandle\u001b[0m\u001b[1;33m,\u001b[0m \u001b[0mfeed_dict\u001b[0m\u001b[1;33m,\u001b[0m \u001b[0mfetch_list\u001b[0m\u001b[1;33m)\u001b[0m\u001b[1;33m:\u001b[0m\u001b[1;33m\u001b[0m\u001b[0m\n",
      "\u001b[0;31mKeyboardInterrupt\u001b[0m: "
     ]
    }
   ],
   "source": [
    "steps = 1000\n",
    "\n",
    "tf.reset_default_graph()\n",
    "model = GAN(dataset, steps)\n",
    "model.train()"
   ]
  },
  {
   "cell_type": "code",
   "execution_count": 15,
   "metadata": {
    "collapsed": false
   },
   "outputs": [
    {
     "data": {
      "text/plain": [
       "<matplotlib.legend.Legend at 0x1baaff94518>"
      ]
     },
     "execution_count": 15,
     "metadata": {},
     "output_type": "execute_result"
    }
   ],
   "source": [
    "f, ax = plt.subplots(figsize=(6,4))\n",
    "f.suptitle('1D Generative Adversarial Network', fontsize=15)\n",
    "plt.ylabel('Probability')\n",
    "ax.set_xlim(-6, 6)\n",
    "ax.set_ylim(0, 1.4)\n",
    "line_d, = ax.plot([], [], label='p_d')\n",
    "line_ds, = ax.plot([], [], label='decision boundary')\n",
    "line_g, = ax.plot([], [], label='\n",
    "                  p_g')\n",
    "frame_text = ax.text(0.02, 0.95,'',horizontalalignment='left',verticalalignment='top', transform=ax.transAxes)\n",
    "ax.legend()"
   ]
  },
  {
   "cell_type": "code",
   "execution_count": 18,
   "metadata": {
    "collapsed": false
   },
   "outputs": [
    {
     "ename": "KeyError",
     "evalue": "'ffmpeg'",
     "output_type": "error",
     "traceback": [
      "\u001b[0;31m---------------------------------------------------------------------------\u001b[0m",
      "\u001b[0;31mKeyError\u001b[0m                                  Traceback (most recent call last)",
      "\u001b[0;32m<ipython-input-18-6c709a87e2b9>\u001b[0m in \u001b[0;36m<module>\u001b[0;34m()\u001b[0m\n\u001b[1;32m     28\u001b[0m                                frames=len(anim_frames), blit=True)\n\u001b[1;32m     29\u001b[0m \u001b[1;33m\u001b[0m\u001b[0m\n\u001b[0;32m---> 30\u001b[0;31m \u001b[0mHTML\u001b[0m\u001b[1;33m(\u001b[0m\u001b[0manim\u001b[0m\u001b[1;33m.\u001b[0m\u001b[0mto_html5_video\u001b[0m\u001b[1;33m(\u001b[0m\u001b[1;33m)\u001b[0m\u001b[1;33m)\u001b[0m\u001b[1;33m\u001b[0m\u001b[0m\n\u001b[0m",
      "\u001b[0;32mD:\\Anaconda3\\lib\\site-packages\\matplotlib\\animation.py\u001b[0m in \u001b[0;36mto_html5_video\u001b[0;34m(self)\u001b[0m\n\u001b[1;32m    919\u001b[0m                 \u001b[1;31m# We create a writer manually so that we can get the\u001b[0m\u001b[1;33m\u001b[0m\u001b[1;33m\u001b[0m\u001b[0m\n\u001b[1;32m    920\u001b[0m                 \u001b[1;31m# appropriate size for the tag\u001b[0m\u001b[1;33m\u001b[0m\u001b[1;33m\u001b[0m\u001b[0m\n\u001b[0;32m--> 921\u001b[0;31m                 \u001b[0mWriter\u001b[0m \u001b[1;33m=\u001b[0m \u001b[0mwriters\u001b[0m\u001b[1;33m[\u001b[0m\u001b[0mrcParams\u001b[0m\u001b[1;33m[\u001b[0m\u001b[1;34m'animation.writer'\u001b[0m\u001b[1;33m]\u001b[0m\u001b[1;33m]\u001b[0m\u001b[1;33m\u001b[0m\u001b[0m\n\u001b[0m\u001b[1;32m    922\u001b[0m                 writer = Writer(codec='h264',\n\u001b[1;32m    923\u001b[0m                                 \u001b[0mbitrate\u001b[0m\u001b[1;33m=\u001b[0m\u001b[0mrcParams\u001b[0m\u001b[1;33m[\u001b[0m\u001b[1;34m'animation.bitrate'\u001b[0m\u001b[1;33m]\u001b[0m\u001b[1;33m,\u001b[0m\u001b[1;33m\u001b[0m\u001b[0m\n",
      "\u001b[0;32mD:\\Anaconda3\\lib\\site-packages\\matplotlib\\animation.py\u001b[0m in \u001b[0;36m__getitem__\u001b[0;34m(self, name)\u001b[0m\n\u001b[1;32m     82\u001b[0m         \u001b[1;32mif\u001b[0m \u001b[1;32mnot\u001b[0m \u001b[0mself\u001b[0m\u001b[1;33m.\u001b[0m\u001b[0mavail\u001b[0m\u001b[1;33m:\u001b[0m\u001b[1;33m\u001b[0m\u001b[0m\n\u001b[1;32m     83\u001b[0m             \u001b[1;32mraise\u001b[0m \u001b[0mRuntimeError\u001b[0m\u001b[1;33m(\u001b[0m\u001b[1;34m\"No MovieWriters available!\"\u001b[0m\u001b[1;33m)\u001b[0m\u001b[1;33m\u001b[0m\u001b[0m\n\u001b[0;32m---> 84\u001b[0;31m         \u001b[1;32mreturn\u001b[0m \u001b[0mself\u001b[0m\u001b[1;33m.\u001b[0m\u001b[0mavail\u001b[0m\u001b[1;33m[\u001b[0m\u001b[0mname\u001b[0m\u001b[1;33m]\u001b[0m\u001b[1;33m\u001b[0m\u001b[0m\n\u001b[0m\u001b[1;32m     85\u001b[0m \u001b[1;33m\u001b[0m\u001b[0m\n\u001b[1;32m     86\u001b[0m \u001b[0mwriters\u001b[0m \u001b[1;33m=\u001b[0m \u001b[0mMovieWriterRegistry\u001b[0m\u001b[1;33m(\u001b[0m\u001b[1;33m)\u001b[0m\u001b[1;33m\u001b[0m\u001b[0m\n",
      "\u001b[0;31mKeyError\u001b[0m: 'ffmpeg'"
     ]
    }
   ],
   "source": [
    "plt.rcParams['animation.ffmpeg_path'] = r'D:\\ffmpeg-20170904-6cadbb1-win64-static\\bin\\ffmpeg.exe'\n",
    "\n",
    "def init():\n",
    "    line_d.set_data([],[])\n",
    "    line_ds.set_data([],[])\n",
    "    line_g.set_data([],[])\n",
    "    frame_text.set_text('Start')\n",
    "    return (line_d,) + (line_ds,) + (line_g,) + (frame_text,)\n",
    "\n",
    "def animate(i):\n",
    "    bins = np.linspace(-5, 5, 50)\n",
    "    x = np.linspace(-5, 5, 100000)\n",
    "    \n",
    "    histd, _ = np.histogram(anim_frames[i][0], bins=bins, normed=True)\n",
    "    line_d.set_data(bins[1:], histd)\n",
    "\n",
    "    ds = anim_frames[i][1]\n",
    "    line_ds.set_data(x, ds)\n",
    "    \n",
    "    histg, _ = np.histogram(anim_frames[i][2], bins=bins, normed=True)\n",
    "    line_g.set_data(bins[1:], histg)\n",
    "    \n",
    "    frame_text.set_text('Timestep = %.1d/%.1d' % (i, len(anim_frames)))\n",
    "    \n",
    "    return (line_d,) + (line_ds,) + (line_g,) + (frame_text,)\n",
    "\n",
    "anim = animation.FuncAnimation(f, animate, init_func=init,\n",
    "                               frames=len(anim_frames), blit=True)\n",
    "\n",
    "HTML(anim.to_html5_video())"
   ]
  },
  {
   "cell_type": "code",
   "execution_count": null,
   "metadata": {
    "collapsed": true
   },
   "outputs": [],
   "source": [
    "f_loss, ax_loss = plt.subplots(figsize=(6,3))\n",
    "f_loss.suptitle('Training Loss', fontsize=15)\n",
    "plt.xlabel('Epochs')\n",
    "plt.ylabel('Loss')\n",
    "ax_loss.set_xlim(-100, num_epochs)\n",
    "ax_loss.set_ylim(0.5, 2)\n",
    "line_loss_d, = ax_loss.plot([], [], label='loss_d')\n",
    "line_loss_g, = ax_loss.plot([], [], label='loss_g')\n",
    "ax_loss.legend()"
   ]
  },
  {
   "cell_type": "code",
   "execution_count": null,
   "metadata": {
    "collapsed": true
   },
   "outputs": [],
   "source": [
    "def init_loss():\n",
    "    line_loss_d.set_data([],[])\n",
    "    line_loss_g.set_data([],[])\n",
    "    frame_text.set_text('Start')\n",
    "    return (line_loss_d,) + (line_loss_g,)\n",
    "\n",
    "def animate_loss(i):\n",
    "    xs=[]\n",
    "    ys_d=[]\n",
    "    ys_g=[]    \n",
    "    for point in range(0, i):\n",
    "        xs.append(point*5)\n",
    "        ys_d.append(anim_frames[point][3])\n",
    "        ys_g.append(anim_frames[point][4])\n",
    "        \n",
    "    line_loss_d.set_data(xs, ys_d)\n",
    "    line_loss_g.set_data(xs, ys_g)\n",
    "    \n",
    "    return (line_loss_d,) + (line_loss_g,)\n",
    "\n",
    "anim_loss = animation.FuncAnimation(f_loss, animate_loss, init_func=init_loss,\n",
    "                               frames=len(anim_frames), blit=True)\n",
    "\n",
    "HTML(anim_loss.to_html5_video())"
   ]
  }
 ],
 "metadata": {
  "kernelspec": {
   "display_name": "Python 3",
   "language": "python",
   "name": "python3"
  },
  "language_info": {
   "codemirror_mode": {
    "name": "ipython",
    "version": 3
   },
   "file_extension": ".py",
   "mimetype": "text/x-python",
   "name": "python",
   "nbconvert_exporter": "python",
   "pygments_lexer": "ipython3",
   "version": "3.5.1"
  }
 },
 "nbformat": 4,
 "nbformat_minor": 2
}
